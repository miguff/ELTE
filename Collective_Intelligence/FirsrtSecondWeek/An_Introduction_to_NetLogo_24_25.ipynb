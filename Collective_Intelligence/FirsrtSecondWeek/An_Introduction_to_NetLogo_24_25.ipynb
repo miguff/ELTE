{
  "cells": [
    {
      "cell_type": "markdown",
      "source": [
        "# **2. Practice - An Introduction to NetLogo**\n",
        "\n",
        "<div style=\"font-size: 14px; color: #6e8192; line-height: 1.5;\">\n",
        "  <div style=\"display: flex; align-items: center; gap: 5px; margin-bottom: 5px;\">\n",
        "    <span style=\"font-size: 18px; color: #6e8192;\">&#128100;</span>\n",
        "    <span>Tamás Takács, PhD student, Department of Artificial Intelligence</span>\n",
        "  </div>\n",
        "  <div style=\"display: flex; align-items: center; gap: 5px;\">\n",
        "    <span style=\"font-size: 18px; color: #6e8192;\">&#128339;</span>\n",
        "    <span>90 min read</span>\n",
        "  </div>\n",
        "  <div style=\"display: flex; align-items: center; gap: 5px;\"> <span style=\"font-size: 18px; color: #6e8192;\">&#128197;</span> <span>January 22, 2025</span> </div>\n",
        "  <div style=\"display: flex; align-items: center; gap: 5px;\"> <span style=\"font-size: 18px; color: #6e8192;\">&#128218;</span> <span>Collective Intelligence</span> </div>\n",
        "</div>\n",
        "\n",
        "![](https://github.com/Fortuz/rl_education/blob/main/assets/logo.png?raw=1)\n",
        "\n",
        "![](https://drive.google.com/uc?export=view&id=1LibKaPXBeiTAgpY__qO2APpUylXw564-)\n",
        "\n",
        "\n",
        "<p align=\"justify\">This practice introduces NetLogo and the basics of agent-based modeling. Students will get familiar with key concepts: what an agent is, the types of agents in NetLogo, and how simulations run. The aim is to show why NetLogo is a good tool for learning ABMs and help students identify the main components they will need. After this practice, students should be ready to start building more complex models."
      ],
      "metadata": {
        "id": "VGNaWtSyjEHo"
      }
    },
    {
      "cell_type": "markdown",
      "source": [
        "## **Table of Contents**\n",
        "\n",
        "- **2.1 Why NetLogo?**\n",
        "    - 2.1.1 Close Competitors  \n",
        "    - 2.1.2 Code Comparison  \n",
        "    - 2.1.3 New Competitors  \n",
        "- **2.2 Building Blocks**\n",
        "    - 2.2.1 The Environment  \n",
        "    - 2.2.2 The Agents  \n",
        "    - 2.2.3 The Observer  \n",
        "    - 2.2.4 Starting Up NetLogo  \n",
        "    - 2.2.5 Appetizer Commands  \n",
        "    - 2.2.6 The Color Property  \n",
        "    - 2.2.7 Shapes  \n",
        "    - 2.2.8 The Breed Property  \n",
        "    - 2.2.9 The Pen Mode Property  \n",
        "    - 2.2.10 Moving the Agents  \n",
        "    - 2.2.11 Patches  \n",
        "- **2.3 Programming in NetLogo**\n",
        "    - 2.3.1 Commands  \n",
        "    - 2.3.2 Interface Elements  \n",
        "    - 2.3.3 Reporters  \n",
        "    - 2.3.4 Styling  \n",
        "    - 2.3.5 Variables  \n",
        "    - 2.3.6 Agentsets  \n",
        "    - 2.3.7 Conditionals  \n",
        "    - 2.3.7 Loops  \n",
        "    - 2.3.8 Lists  \n",
        "    - 2.3.9 Program Structure  \n",
        "    - 2.3.10 Higher-Order Procedure  \n",
        "    - 2.3.11 Breeds  "
      ],
      "metadata": {
        "id": "VIUdYWaqyMmQ"
      }
    },
    {
      "cell_type": "markdown",
      "source": [
        "NetLogo is a **programmable modeling environment** for simulating natural and **social phenomena**, based on **Logo** by Seymour Papert. It is designed to model **complex system** development over time.\n",
        "\n",
        "1. <u><strong>Complex System</u></strong> a system made up of many interacting components or agents, where the interactions give rise to emergent behaviors that cannot be easily predicted from the behavior of individual components (congested road network).\n",
        "2. <u><strong>Social Phenomena</u></strong>: behaviors, patterns, or events that arise within societies due to the interactions and relationships among individuals or groups (voting patterns, Romania 2024).\n",
        "3. <u><strong>Logo</u></strong>: high-level, interpreted, dynamically-typed programming language designed for educational purposes. Comes with functional paradigms, symbolic processing and turtle graphics.\n",
        "4. <u><strong>Programmable Modeling Environment</strong></u>: a software tool that allows users to create, simulate, and analyze computational models of complex systems. It provides a framework for defining agents, their behaviors, and interactions within an environment (NetLogo)."
      ],
      "metadata": {
        "id": "6oRlu9yuyP9W"
      }
    },
    {
      "cell_type": "markdown",
      "source": [
        "## <u>**2.1 Why NetLogo?**</u>\n",
        "\n",
        "Are there any other programmable modeling environments out there? **Yes, there are**.\n",
        "\n",
        "Many competing modeling environments use programming languages inspired by or similar to Logo. Most of these platforms integrate another high-level programming language, such as Java, to enhance the user experience. However, much of the Java code in these systems has become outdated."
      ],
      "metadata": {
        "id": "2npFEvo6KGEi"
      }
    },
    {
      "cell_type": "markdown",
      "source": [
        "### **2.1.1 Close Competitors:**\n",
        "| Feature                  | GAMA                                                                                                              | NetLogo                                                                                      | Repast                                                                                               |\n",
        "| ------------------------ | ----------------------------------------------------------------------------------------------------------------- | -------------------------------------------------------------------------------------------- | ---------------------------------------------------------------------------------------------------- |\n",
        "| **License**              | Open-source (GPL v3.0)                                                                                            | Open-source (GPL)                                                                            | Open-source (BSD)                                                                                    |\n",
        "| **Programming Language** | GAML (Gama Modeling Language) for simulations; Java for extensions                                                | NetLogo language                                                                             | Java (RepastS, RepastJ); Python (Repast4Py); .NET languages (Repast.NET)                             |\n",
        "| **Operating Systems**    | Cross-platform: Windows, Linux, macOS                                                                             | Cross-platform: Windows, Linux, macOS                                                        | Cross-platform: Windows, Linux, macOS                                                                |\n",
        "| **Primary Domain**       | Spatially explicit agent-based simulations                                                                        | Social and natural sciences; educational purposes                                            | Social sciences; complex adaptive systems                                                            |\n",
        "| **User Support**         | Tutorials, manual, FAQ, forums, documentation, selected publications, examples                                    | Documentation, FAQ, selected references, tutorials, third-party extensions, mailing lists    | Documentation, mailing list, defect list, reference papers, external tools, tutorials, FAQ, examples |\n",
        "| **GIS Capabilities**     | Advanced GIS support, allowing integration and manipulation of spatial data                                       | Basic GIS support; can handle simple spatial data                                            | Extensive GIS capabilities; supports integration with various spatial data formats                   |\n",
        "| **3D Capabilities**      | Supports 3D simulations and visualizations                                                                        | Basic 3D capabilities; primarily 2D                                                          | Supports 3D simulations and visualizations                                                           |\n",
        "| **Learning Curve**       | Moderate; requires understanding of GAML and modeling concepts                                                    | Beginner-friendly; designed for ease of use and learning                                     | Steeper; requires proficiency in Java or other supported languages                                   |\n",
        "| **Performance**          | Suitable for large-scale simulations; performance depends on model complexity                                     | Best suited for small to medium-scale models; performance may degrade with very large models | Designed for high-performance simulations; suitable for large-scale and complex models               |\n",
        "| **Debugging**            | Reports syntactic and semantic errors and gives semantic warnings that indicate “flaws in the logic of the model” | Limited amount of debugging functionalities                                                  | Many syntax errors are only identified at runtime                                                    |\n",
        "| **Simulation Speed**     | Slowest (tested on Game of Life)                                                                                  | Fastest (tested on Game of Life)                                                             | Fast (tested on Game of Life)                                                                        |\n",
        "| **Multi-Threading**      | Yes                                                                                                               | No                                                                                           | Yes with Repast HPC                                                                                  |\n",
        "| **Latest Version**       | 2.11 (as of January 20, 2025)                                                                                     | 6.4.0 (as of January 20, 2025)                                                               | 1.9.3 (as of January 20, 2025)                                                                       |\n",
        "\n",
        "*Reference: Raab, R., Lenger, K., Stickler, D., Granigg, W., & Lichtenegger, K. (2022). An Initial Comparison of Selected Agent-Based Simulation Tools in the Context of Industrial Health and Safety Management. _Proceedings of the 2022 8th International Conference on Computer Technology Applications_, 106-112. Presented at the Vienna, Austria.* doi:10.1145/3543712.3543745"
      ],
      "metadata": {
        "id": "VF5qlclvKexM"
      }
    },
    {
      "cell_type": "markdown",
      "source": [
        "### **2.1.2 Code Comparison**:\n",
        "\n",
        "![](https://drive.google.com/uc?export=view&id=1dhFGLbELO8xdvrEB-KPrPyGr6pHARRvy)\n",
        "\n"
      ],
      "metadata": {
        "id": "Uv2ZLz5BKwCq"
      }
    },
    {
      "cell_type": "markdown",
      "source": [
        "### **2.1.3 New Competitors**:\n",
        "\n",
        "New competitor modeling environments aim to leverage multi-threading and more efficient, faster programming languages as their backbone to outperform traditional Java-based platforms. The market remains highly competitive, with ongoing efforts to develop the most comprehensive and versatile programmable modeling software.\n",
        "\n",
        "![](https://drive.google.com/uc?export=view&id=1vZCDRvO8hnwG_9bn_cst8cXUX6vBcMSF)\n",
        "\n",
        "*Reference: Datseris, G., Vahdati, A. R., & DuBois, T. C. (2022). Agents.jl: a performant and feature-full agent-based modeling software of minimal code complexity. _SIMULATION_, _100_(10), 1019-1031.* doi:10.1177/00375497211068820\n",
        "\n",
        "<u>Other notable advantages of NetLogo:</u>\n",
        "- Extensive documentation (literally contains everything a good documentation needs)\n",
        "- Huge collections of pre-written simulations on Biology, Medicine, Physics, Chemistry and more\n",
        "- Very easy to get into"
      ],
      "metadata": {
        "id": "WMkPoOlnL92p"
      }
    },
    {
      "cell_type": "markdown",
      "source": [
        "## <u>**2.2 Building Blocks**</u>\n",
        "\n",
        "### **2.2.1 The Environment**\n",
        "\n",
        "The whole world is a **discrete grid**. Each basic region is called a **patch**.\n",
        "\n",
        "![](https://drive.google.com/uc?export=view&id=1KsNiUHkMjP-a8TJFiqv2S9qE7lOe8_81)\n"
      ],
      "metadata": {
        "id": "N2YVtrwWMSGc"
      }
    },
    {
      "cell_type": "markdown",
      "source": [
        "### **2.2.2 The Agents**\n",
        "\n",
        "The environment is composed of **agents called turtles** that can independently move. Each turtle has a **position, coordinates, and a heading**, expressed in degrees. 0° is north.\n",
        "\n",
        "![](https://drive.google.com/uc?export=view&id=1XYVmRgNHZmYgRY2gcV8-uHMS-9QXVB4d)\n",
        "\n",
        "*Reference*: https://ccl.northwestern.edu/netlogo/\n",
        "\n",
        "Agents possess descriptive features as well such as their **size, color and shape.** (Mostly used for visualization purposes)\n",
        "\n",
        "![](https://drive.google.com/uc?export=view&id=1ZNFXLV6LFWC5R4aBdRqNrm44mc50Mgsy)\n",
        "\n",
        "*Reference*: https://ccl.northwestern.edu/netlogo/\n",
        "\n",
        "Just like space, time in simulations is also discrete, progressing in units called **ticks**. A tick represents a moment in simulation time during which agents perform their actions. By default, a scheduler ensures agents act in a random order each tick, though this behavior can be customized as needed.\n",
        "\n",
        "![](https://drive.google.com/uc?export=view&id=1mfHukpvF1tbxaset5o0-6GLtOUo3W1Hz)\n",
        "\n",
        "*Reference*: https://ccl.northwestern.edu/netlogo/\n",
        "\n",
        "Each agent is equipped with a set of properties:\n",
        "- **who**: A unique identifier assigned to each agent, distinguishing it from others in the simulation.\n",
        "- **heading**: The direction the agent is facing, typically measured in degrees.\n",
        "- **xcor and ycor**: The agent's coordinates on the grid, defining its position in the simulation environment.\n",
        "- **shape, size, color**: Visual attributes of the agent, determining how it appears in the simulation.\n",
        "- **hidden**: A boolean property indicating whether the agent is visible or hidden in the simulation."
      ],
      "metadata": {
        "id": "Y7-ZQz9LMd3j"
      }
    },
    {
      "cell_type": "markdown",
      "source": [
        "### **2.2.3 The Observer**\n",
        "\n",
        "The **observer** in NetLogo acts as an overseer, responsible for managing and modifying the environment and agents without being an agent itself. It can execute commands to create, move, or modify turtles, patches, and links, as well as control the simulation by adjusting global settings, running procedures, and monitoring overall behavior."
      ],
      "metadata": {
        "id": "WecRe88UM8qq"
      }
    },
    {
      "cell_type": "markdown",
      "source": [
        "### **2.2.4 Starting Up NetLogo (6.4.0)**\n",
        "\n",
        "![](https://drive.google.com/uc?export=view&id=1ZMR5UzavBMcd84MS-Xq5F2lV82aMl4G2)\n",
        "\n",
        "Opening NetLogo presents a minimalist interface with a blank project, including an empty grid window by default. The easiest way to begin interacting with this environment is through the **Command Center**.\n",
        "\n",
        "By default, you are acting as the **observer**, which grants full control over the entire environment with a global perspective. In observer mode, commands are executed at the global level and can directly manipulate the environment, agents, and simulation settings."
      ],
      "metadata": {
        "id": "Ieaa0LkQM-xC"
      }
    },
    {
      "cell_type": "markdown",
      "source": [
        "### **2.2.5 Appetizer Commands**\n",
        "\n",
        "```nlogo\n",
        "create-turtles 1\n",
        "```\n",
        "\n",
        "This code may appear simple, but it performs multiple actions behind the scenes:\n",
        "- **Action**: It creates **1 new turtle** in the simulation.\n",
        "- **Default Properties**: The newly created turtle is assigned default values for its properties, such as:\n",
        "\t- A unique identifier (`who` number, in this case it will be 0).\n",
        "\t- Randomly chosen initial `heading` (direction).\n",
        "\t- A random `xcor` and `ycor` (position) within the world's boundaries.\n",
        "\t- Default visual properties like `shape`, `color`, `size`, and `hidden` status (not hidden by default).\n",
        "- **Scope**: This command is executed from the **observer** context, meaning the observer initiates the creation of the turtle(s) in the environment.\n",
        "\n",
        "![](https://drive.google.com/uc?export=view&id=1s9m60dWD2v8WPDFnOMwGILkEsw-22XPX)\n",
        "\n",
        "```nlogo\n",
        "inpsect turtle 0\n",
        "```\n",
        "\n",
        "The command `inspect turtle` is used to inspect all properties of a turtle.\n",
        "\n",
        "![](https://drive.google.com/uc?export=view&id=1ltIyxSwnXcxnwrEY-D4fz1AygqEX7eKP)\n",
        "\n",
        "In this window, you can observe additional properties of the turtle that were not mentioned previously:\n",
        "- **label**: A text string displayed next to the turtle. By default, it is empty, but it can be customized to display numbers, words, or other information.\n",
        "- **label-color**: The color of the text in the turtle's label, displayed as a numerical color code.\n",
        "- **breed**: The classification of the turtle, used to group turtles into subcategories for specific behaviors or roles. By default, turtles belong to the `turtles` breed.\n",
        "- **pen-size**: The width of the pen used by the turtle when drawing on the grid, measured in pixels.\n",
        "- **pen-mode**: Determines the drawing behavior of the turtle's pen. Possible values include `up` (not drawing), `down` (drawing as it moves), or `erase` (erasing lines as it moves).\n",
        "\n",
        "There is also an **input field** at the bottom of the Inspect window, which allows you to directly modify properties or execute commands for the selected agent or object (such as a turtle, patch, or link) in the simulation.\n",
        "\n",
        "For example, to change the label of a turtle, you can use the following command:\n",
        "\n",
        "```nlogo\n",
        "set label \"Shrek\"\n",
        "```\n",
        "\n",
        "The `set` command modifies the properties of the agent selected in the Inspect window. However, if you want to do this from the **observer level**, you need to use the `ask` command to specify which agent you are targeting:\n",
        "\n",
        "```nlogo\n",
        "ask turtle 0 [set label \"Donkey\"]\n",
        "```\n",
        "\n",
        "This observer-level command is slightly modified from the original, with the inclusion of the `ask` keyword, along with the breed (`turtle`) and the unique identifier (`who`) of the agent in question. The `ask` command in NetLogo allows the observer to direct specific agents (or groups of agents) to perform actions.\n",
        "\n",
        "> **NOTE:**\n",
        "> 1. The `set` command works within the context of the selected agent and can modify its own properties directly.\n",
        "> 2. Using the `ask` command, an agent can modify the properties of another agent. When an agent uses `ask`, it essentially \"steps into\" the context of the target agent(s).\n",
        "\n",
        "> **Exercise:**\n",
        "> 1. Use the `create-turtles` command in the **Command Center** to add a new turtle.\n",
        "> 2. Right-click on the newly created turtle (Turtle 1) and select \"Inspect\" to open its Inspect window.\n",
        "> 3. In the input field of Turtle 1's Inspect window, try changing Turtle 0's label to \"Shrek\" again.\n",
        "\n"
      ],
      "metadata": {
        "id": "Agwx5qmgNTbd"
      }
    },
    {
      "cell_type": "markdown",
      "source": [
        "### **2.2.6 The Color Property**\n",
        "\n",
        "You might have noticed that the `color` of **Turtle 0** is set to `55`, which might seem unusual. This is a greenish color in NetLogo's color scheme. Additionally, the `label-color` is set to `9.9`, which corresponds to white.\n",
        "\n",
        "Let's try changing the `label-color` of **Turtle 0** to a different value, such as `19.9`:\n",
        "\n",
        "```nlogo\n",
        "set label-color 19.9\n",
        "```\n",
        "\n",
        "Surprisingly, nothing seems to happen. So, let's explore what's going on behind the scenes and understand how colors are coded in NetLogo.\n",
        "\n",
        "![](https://drive.google.com/uc?export=view&id=1Ly5Z23Bdg3Jdj8oTd0wxf0yZq5fZuvT7)\n",
        "\n",
        "*Reference:* https://ccl.northwestern.edu/netlogo/bind/article/shapes-and-colors-in-netlogo.html\n",
        "\n",
        "NetLogo uses a **continuous color scale** based on numbers ranging from `0` to `140`. These numbers represent specific colors on the NetLogo color wheel:\n",
        "- **Whole Numbers**: Each whole number corresponds to a base color (e.g., `0` is black, `15` is red, `65` is green, etc.).\n",
        "- **Decimal Points**: Decimal values (e.g., `19.9`) create shades or variations of the base color. For example: `9.9`: The lightest shade of a color, often close to white and `19.9`: A lighter variation of red.\n",
        "\n",
        "Let's try changing the `label-color` of **Turtle 0** to a value that is outside the bounds of NetLogo's color system:\n",
        "\n",
        "```nlogo\n",
        "set label-color 155\n",
        "```\n",
        "\n",
        "Interestingly, the `label-color` turns red. This happens because NetLogo handles out-of-bounds color values by applying the following formula: `color = set_color % 140` (graceful handling).\n"
      ],
      "metadata": {
        "id": "duJf913ROwqo"
      }
    },
    {
      "cell_type": "markdown",
      "source": [
        "### **2.2.7 Shapes**\n",
        "\n",
        "For some phenomena, modeling how agents **look** can be just as important as modeling their behavior. In other cases, creating visually appealing and creative visualizations can enhance our understanding and enjoyment of the modeling process.\n",
        "\n",
        "NetLogo uses **vectorized shapes** for turtles, which are built from basic geometric components. By default, turtles use the `default` shape, but NetLogo also provides a library of pre-defined shapes that can be assigned to turtles to represent different roles or states visually. These shapes can be customized to suit the needs of your model.\n",
        "\n",
        "![](https://drive.google.com/uc?export=view&id=1iwIQXxBG-mQ4XeWkBqAEV4RNDIdp8AMk)\n",
        "\n",
        "Other notable shapes include the following: `airplane`, `bug`, `butterfly`, `person`, `house`, `car`.\n",
        "\n",
        "NetLogo has way more turtle shapes than the default ones for us to choose from. All we need to do is to click the **Import From Library** button, which will bring up a long list of shapes to choose from.\n",
        "\n",
        "![](https://drive.google.com/uc?export=view&id=1hxSOlS19RdM7anPEqJD9sR9DyJCO0fyG)\n",
        "\n",
        "*Reference*: https://ccl.northwestern.edu/netlogo/bind/article/shapes-and-colors-in-netlogo.html\n"
      ],
      "metadata": {
        "id": "3LSqMmZNPDjd"
      }
    },
    {
      "cell_type": "markdown",
      "source": [
        "### **2.2.8 The Breed Property**\n",
        "\n",
        "The **breed** property defines a classification of agents, specifying their roles within the system. NetLogo provides a fallback breed called `turtles`, which is the default class for all agents unless explicitly assigned to another breed. This ensures that agents always have a default classification, even if no additional breeds are defined.\n",
        "\n",
        "You can define additional breeds to represent different roles or behaviors in the system. For example, in a simulation of hunters and prey, you could create two separate breeds:\n",
        "- **Hunters**: Agents that have specific goals and actions, such as chasing prey.\n",
        "- **Prey**: Agents with different behaviors, like avoiding hunters or foraging for resources."
      ],
      "metadata": {
        "id": "o-AriDgrPbpq"
      }
    },
    {
      "cell_type": "markdown",
      "source": [
        "### **2.2.9 The Pen Mode Property**\n",
        "\n",
        "The **pen-mode** property enables agents to leave a visual trail, following their trajectory as they move around the environment. The property can take the following values:\n",
        "- **`up`**: The pen is lifted, and no trail is drawn as the agent moves.\n",
        "- **`down`**: The pen is lowered, drawing a trail along the agent's path.\n",
        "- **`erase`**: The pen erases any previously drawn trails as the agent moves.\n",
        "\n",
        "This feature allows for the creation of intricate visual patterns, showing emergent behaviors in multi-agent systems through simple movement rules. Let's set the `pen-mode` of **Turtle 0** to `down`.\n",
        "\n",
        "```\n",
        "set pen-mode \"down\"\n",
        "```\n"
      ],
      "metadata": {
        "id": "-wof7npgPcXv"
      }
    },
    {
      "cell_type": "markdown",
      "source": [
        "### **2.2.10 Moving the Agents**\n",
        "\n",
        "Basic movement in NetLogo involves the following commands:\n",
        "- **`forward`**: Moves the agent in the direction specified by its current `heading` property.\n",
        "- **`right`** and **`left`**: Adjust the `heading` value of the agent, changing its direction of movement.\n",
        "\n",
        "The **`left`** command subtracts the specified angle from the current `heading`, while **`right`** adds the specified angle to it. It's important to note that in NetLogo, the `heading` value is measured in degrees, with **0 degrees** representing north. For example:\n",
        " - If an agent's `heading` is **180** (facing south) and you execute `right 180`, the agent will turn to face north (back to a `heading` of 0).\n",
        "\n",
        "> **Exercise:** Use **Turtle 0** to draw a perfect **equilateral triangle** (a triangle with three equal sides and 60-degree angles) on the simulation grid.  \n",
        "> You will use the **pen-mode** property and the basic movement commands (`forward` and `right`) to accomplish this."
      ],
      "metadata": {
        "id": "4sstYek3PjTP"
      }
    },
    {
      "cell_type": "markdown",
      "source": [
        "### **2.2.11 Patches**\n",
        "\n",
        "In NetLogo, there are four types of agents: **turtles**, **patches**, **links**, and the **observer**. Commands can be directed to any of these agents, including patches.\n",
        "\n",
        "Patches are arranged in a grid with each patch having specific coordinates. The patch at coordinates `(0, 0)` is called the **origin**, and the coordinates of other patches are determined by their horizontal and vertical distances from this origin.\n",
        "- **`pxcor`**: The horizontal coordinate (increases as you move to the right).\n",
        "- **`pycor`**: The vertical coordinate (increases as you move upward).\n",
        "\n",
        "These coordinates work similarly to the standard mathematical coordinate plane.\n",
        "\n",
        "Commands in NetLogo can target a **specific turtle** or **specific patch** or the **entire set of turtles or patches**.\n",
        "\n",
        "|         | Turtles                          | Patches                          |\n",
        "| ------- | -------------------------------- | -------------------------------- |\n",
        "| **One** | `ask turtle 0 [ set color red ]` | `ask patch 2 3 [set pcolor red]` |\n",
        "| **All** | `ask turtles [ set color red ]`  | `ask patches [set pcolor red]`   |\n",
        "\n",
        "See https://ccl.northwestern.edu/netlogo/docs/dictionary.html for additional commands.\n",
        "\n",
        "![](https://drive.google.com/uc?export=view&id=18rhPvjMxsxgVCVpFXct4y4cm_K-GOTyg)\n",
        "\n",
        "Patches also have a set of properties that can be manipulated, such as their **color** or **label**. For example, you can change the color of a patch to standard white by setting its color property to `9.9`. Here's how you can do it:\n",
        "\n",
        "```nlogo\n",
        "ask patch 9 4 [set pcolor 9.9]\n",
        "```\n",
        "\n",
        "So what would be needed to create, for example, a chessboard pattern on the grid? Is there anything beyond the Inspect Window and the Command Center to write more complex code, such as loops, creating breeds, handling complex data structures, and manipulating multiple elements at once? Of course, there is: **The Code Tab**."
      ],
      "metadata": {
        "id": "as-rinqTQWYu"
      }
    },
    {
      "cell_type": "markdown",
      "source": [
        "## <u>**2.3 Programming in NetLogo**</u>\n",
        "\n",
        "Instructions to agents can be classified according to three criteria:\n",
        "- whether they are built into NetLogo (**primitive**) or user implemented (**procedure**)\n",
        "- whether the instruction produces an output (**report**) or not (**command**)\n",
        "- whether an instruction takes inputs or not\n",
        "\n",
        "> **NOTE:**\n",
        "> - NetLogo is case insensitive, so case conventions are purely for reader convenience."
      ],
      "metadata": {
        "id": "H-PukyVPQ45E"
      }
    },
    {
      "cell_type": "markdown",
      "source": [
        "### **2.3.1 Commands**\n",
        "\n",
        "Commands are procedures that don't have any output, but only side effects on the environment.\n",
        "```nlogo\n",
        "to go\n",
        "\tclear-all\n",
        "\tcreate-turtles 10\n",
        "\task turtles [ forward 1 ]\n",
        "end\n",
        "```\n",
        "\n",
        "This code defines a procedure called `go`, which performs the following actions:\n",
        "\n",
        "1. **`clear-all`**: Resets the environment by clearing all agents, patches, and any previously drawn elements on the grid.\n",
        "2. **`create-turtles 10`**: Creates 10 new turtles, each with default properties like random positions and headings.\n",
        "3. **`ask turtles [ forward 1 ]`**: Asks all turtles to move forward by 1 step in the direction they are currently facing.\n",
        "\n",
        "This command can then be called in the **Command Center** with the following line:\n",
        "\n",
        "```nlogo\n",
        "go\n",
        "```\n"
      ],
      "metadata": {
        "id": "WIjjp1QUsngM"
      }
    },
    {
      "cell_type": "markdown",
      "source": [
        "### **2.3.2 Interface Elements**\n",
        "\n",
        "Is there another way to interact with the Code Pane from the Interface Tab? **Yes**, through **Interface Elements**, which allow users to modify and interact with the simulation without directly changing the code. The most notable elements include:\n",
        "- **Button**: Executes a specific procedure or command when clicked.\n",
        "- **Slider**: Adjusts numeric values dynamically to control variables.\n",
        "- **Switch**: Toggles between `true` and `false` for boolean variables.\n",
        "- **Chooser**: Allows selection from a predefined list of options.\n",
        "- **Input**: Accepts user-provided text or numeric input.\n",
        "- **Monitor**: Displays the current value of a variable in real time.\n",
        "- **Plot**: Visualizes data over time or for specific conditions.\n",
        "- **Output**: Prints text or data to a log-like area in the interface.\n",
        "- **Note**: Displays descriptive text or instructions for the user.\n",
        "\n",
        "> **Exercise:** Figure out which **Interface Element** would be appropriate to call this command once without interacting with the **Command Center**.  \n",
        "> Can you also determine how to call this function continuously within a loop?\n"
      ],
      "metadata": {
        "id": "ulou5-3Zso5v"
      }
    },
    {
      "cell_type": "markdown",
      "source": [
        "### **2.3.3 Reporters**\n",
        "\n",
        "Reporters are procedures that compute a value and report it.\n",
        "```nlogo\n",
        "to-report double [ num ]\n",
        "\treport 2 * num\n",
        "end\n",
        "```\n",
        "\n",
        "The above code defines a reporter named `double` that performs the following actions:\n",
        "\n",
        "1. **Input Parameter**: It takes a single input, `num`, which is the value to be processed.\n",
        "2. **Computation**: It multiplies the input (`num`) by 2.\n",
        "3. **Reporting the Result**: The `report` keyword is used to return the computed value (i.e., `2 * num`).\n",
        "\n",
        "This reporter can be called in the **Command Center** or within other procedures to compute the double of a given number. For example:\n",
        "\n",
        "```nlogo\n",
        "show double 5\n",
        "```\n",
        "\n",
        "In the code above, `num` acts as an **input parameter** to the command.\n",
        "\n",
        "> **Exercise:** Figure out which **Interface Element** would be most appropriate to monitor the value of the `double` reporter."
      ],
      "metadata": {
        "id": "UIjWXHB1sxSL"
      }
    },
    {
      "cell_type": "markdown",
      "source": [
        "### **2.3.4 Styling**\n",
        "\n",
        "There isn't an official NetLogo style guide. Nonetheless the official documentation is fairly consistent and follows some good habits:\n",
        "- use camel case beginning with a lower-case letter for procedure (e.g. `myProcedure`, Java style)\n",
        "- do not use underscores in names\n",
        "- name command procedure with nouns and reporters with verbs"
      ],
      "metadata": {
        "id": "3jyJR9TVtJbg"
      }
    },
    {
      "cell_type": "markdown",
      "source": [
        "### **2.3.5 Variables**\n",
        "\n",
        "Variables in NetLogo can be divided into three main groups:\n",
        "- **Local variables**, defined as part of a procedure: `let <name> <value>`\n",
        "- **Agent variables**, defined as part of each agent: `<agent*>-own [ <name(s)> ]`\n",
        "- **Global variables**, accessible by every agent and procedure: `globals [ <name(s)> ]`\n",
        "\n",
        "> **Exercise:** Create a global variable named `radius` and set its value to 5 in a command named `setup`. Subsequently, create a reporter called `calculate-area` that calculates the area of a circle.  \n",
        "> In this function, create a local variable named `area` that computes the area of the circle using the formula `area = π × radius²`, where `radius` is the global variable. The reporter should then return the computed area of the circle.  \n",
        "> Use a **Button** interface element to run the `setup` command once, then utilize a **Monitor** interface element to show the result **with 3 decimal places**!\n",
        "\n",
        "> **Hints:**\n",
        "> - Use the `globals` keyword to define the global variable `radius`.\n",
        "> - Use the `set` command to assign the value `5` to `radius`.\n",
        "> - `pi` is already a predefined constant in NetLogo, so you don’t need to define it manually.\n",
        "\n",
        "> **Solution:**\n",
        "> <details>\n",
        "> <summary><strong>Click to show/hide solution</strong></summary>\n",
        ">\n",
        "> ```nlogo\n",
        "> globals [radius]  \n",
        ">\n",
        "> to setup  \n",
        ">   clear-all  \n",
        ">   set radius 5  \n",
        "> end  \n",
        ">\n",
        "> to-report calculate-area  \n",
        ">   let area pi * radius * radius  \n",
        ">   report area  \n",
        "> end\n",
        "> ```\n",
        ">\n",
        "> </details>\n",
        "\n",
        "![](https://drive.google.com/uc?export=view&id=1SQ0GNPUgBNc0fwN2ID2NysGJxd3MOl1h)\n",
        "\n",
        "> **NOTE:**\n",
        "> - NetLogo variables are dynamically typed.\n",
        "> - Primitive types are **numbers, booleans, lists, strings**, along with the usual operations: `+`, `-`, `*`, `/`, `^`, `>`, `>=`, `=`, `!=`, `<`, `<=`, `and`, `or`, `not`, `xor`.\n",
        "> - **All numbers are floating points**; be aware of approximations.\n",
        "> - When performing arithmetic operations **be aware of spaces**: the lack of parentheses might bring ambiguity in parsing the operation and result in something different.\n"
      ],
      "metadata": {
        "id": "TmiK21DqtKSK"
      }
    },
    {
      "cell_type": "markdown",
      "source": [
        "### **2.3.6 Agentsets**\n",
        "\n",
        "When asking to update an agent variables a **subset of all the agents**, called `agentset`, can be used. An `agentset` contains one or more agents, all of the same type, and it's always randomly ordered.\n",
        "\n",
        "```nlogo\n",
        "ask one-of turtles [ <command> ]\n",
        "```\n",
        "\n",
        "The `one-of` primitive in NetLogo randomly selects one agent from a given set of agents, such as turtles, patches, or links. For example, `one-of turtles` randomly selects one turtle from the current set of turtles. Additionally, you can create subsets of agents using conditions (e.g., `turtles with [color = red]`) and then instruct these specific subsets with targeted commands.\n",
        "\n",
        "```nlogo\n",
        "let some-patches patches with [ pxcor < 3 ]\n",
        "ask some-patches [ set pcolor red ]\n",
        "```"
      ],
      "metadata": {
        "id": "r6oUQU90trHL"
      }
    },
    {
      "cell_type": "markdown",
      "source": [
        "### **2.3.7 Conditionals**\n",
        "\n",
        "Conditionals in NetLogo allow agents to make decisions based on specific criteria using commands like `if`, `ifelse`, and `ifelse-value`. For example, `if pcolor = black [ set pcolor white ]` changes a patch's color to white only if its current color is black.\n",
        "\n",
        "```nlogo\n",
        "if (<condition>) [ <command(s)> ]\n",
        "\n",
        "ifelse (<condition>)\n",
        "\t[ <command(s) if true]\n",
        "\t[ <command(s) if false]\n",
        "\n",
        "ifelse-value (<condition)\n",
        "\t[ <reporter(s) if true]\n",
        "\t[ <reporter(s) if false]\n",
        "```\n",
        "\n",
        "```nlogo\n",
        "if (random-float 1 < 0.5)\n",
        "\t[ show \"heads\" ]\n",
        "\n",
        "ifelse (random-float 1 < 0.5)\n",
        "\t[ show \"heads\" ]\n",
        "\t[ show \"tails\" ]\n",
        "\n",
        "ask turtles [\n",
        "\tset color ifelse-value (energy < 0)\n",
        "\t[ red ]\n",
        "\t[ green ]\n",
        "]\n",
        "```\n",
        "\n",
        "Conditions are logical expressions (=, <, >, and, or, etc.) that evaluate to `true` or `false`.\n",
        "\n",
        "> **NOTE:**\n",
        "> - When using `if` or `ifelse` in an `ask` block, the condition is evaluated for each agent individually.\n",
        ">\n",
        "> ```nlogo\n",
        "> ask turtles [ if xcor > 0 [ set color red ] ]\n",
        "> ```\n"
      ],
      "metadata": {
        "id": "qhrewIqouDER"
      }
    },
    {
      "cell_type": "markdown",
      "source": [
        "### **2.3.7 Loops**\n",
        "\n",
        "Loops in NetLogo allow repeated execution of commands, enabling dynamic and iterative behaviors. Common looping constructs include `repeat`, which runs a block of commands a fixed number of times, and `while`, which runs as long as a specified condition is true.\n",
        "\n",
        "```nlogo\n",
        "loop [ <command(s)> ]\n",
        "\n",
        "repeat <num> [ <command(s)> ]\n",
        "\n",
        "foreach <list> [ [<item>] -> <command(s)> ]\n",
        "```\n",
        "\n",
        "```nlogo\n",
        "loop [ ifelse (counter > 100)\n",
        "\t[ stop ]\n",
        "\t[set counter counter + 1]\n",
        "]\n",
        "\n",
        "repeat 5 [\n",
        "\task one-of turtles [ set color red ]\n",
        "]\n",
        "\n",
        "foreach [1 2 3] [ [num] -> show num * 2 ]\n",
        "```\n",
        "\n",
        "> **NOTE:**\n",
        "> - Loops inside an `ask` block are executed independently for each agent.\n",
        "\n",
        "<pre><code class=\"language-nlogo\">ask turtles [ repeat 5 [ forward 1 ] ]</code></pre>\n",
        "</div>\n"
      ],
      "metadata": {
        "id": "hB4rUe5yuSXp"
      }
    },
    {
      "cell_type": "markdown",
      "source": [
        "### **2.3.8 Lists**\n",
        "\n",
        "Lists in NetLogo are ordered collections of items, which can include numbers, strings, agents, or other lists. They are data structures that support operations like adding, removing, or accessing elements.\n",
        "\n",
        "```nlogo\n",
        "( list <element(s)> )\n",
        "\n",
        "[ element(s) ]\n",
        "```\n",
        "\n",
        "```nlogo\n",
        "( list 1 \"two\" true)\n",
        "\n",
        "[ 1 \"two\" true ]\n",
        "```\n",
        "\n",
        "> **NOTE:**\n",
        "> - In NetLogo, lists are **immutable, ordered, and potentially heterogeneous**.\n",
        "\n",
        "\n",
        "**Some examples:**\n",
        "\n",
        "```nlogo\n",
        "let colors [\"red\" \"blue\" \"green\"]\n",
        "show item 1 colors\n",
        "```\n",
        "\n",
        "The output will the firsts element or `item` in the list, which is `blue`.\n",
        "\n",
        "```nlogo\n",
        "let my-list [1 2 3]\n",
        "set my-list replace-item 1 my-list 99\n",
        "```\n",
        "\n",
        "`my-list` will contain the values of [1, 99, 3] after using `replace-item`.\n",
        "\n",
        "The `lput` primitive command adds an element to the end of a list, while `fput` adds an element to the beginning.\n"
      ],
      "metadata": {
        "id": "ECMCHYpVuabj"
      }
    },
    {
      "cell_type": "markdown",
      "source": [
        "### **2.3.9 Program Structure**\n",
        "\n",
        "The flexibility of NetLogo and its agent-centered way of building models quickly escalates to complex models that are difficult to work with.\n",
        "\n",
        "Try to keep your structure as close as possible to:\n",
        "- **global variable** declaration;\n",
        "- **agent variable** declaration;\n",
        "- **setup procedure**, in which global variables are initialized, agents are created and the environment is initialized;\n",
        "- **go procedure**, which implements one cycle of the simulation."
      ],
      "metadata": {
        "id": "MIrE-OEMvEp4"
      }
    },
    {
      "cell_type": "markdown",
      "source": [
        "### **2.3.10 Higher-Order Procedure**\n",
        "\n",
        "Even though NetLogo is not a higher-order language we can simulate this behavior using **anonymous procedures/reporters**.\n",
        "\n",
        "```nlogo\n",
        "[ [ <var(s)> ] -> <body> ]\n",
        "```\n",
        "\n",
        "- **`[ ]`**: Encloses the entire anonymous procedure or reporter.\n",
        "- **`[ <var(s)> ]`**: Specifies input variables (like function parameters) in a nested bracket. These variables can be used within the body.\n",
        "- **`->`**: Indicates the start of the body of the procedure or reporter.\n",
        "- **`<body>`**: The actual commands or expressions to execute. If it's a reporter, the result of this expression is returned.\n",
        "**Higher-order procedure:**\n",
        "\n",
        "```nlogo\n",
        "[ [ x y ] -> setxy y x ]\n",
        "```\n",
        "\n",
        "**Anonymous procedures assigned to variables (tasks):**\n",
        "\n",
        "```nlogo\n",
        "globals [ stack push ]\n",
        "\n",
        "to setup\n",
        "\tset stack []  ; Initializes the stack as an empty list.\n",
        "\tset push [el -> set stack lput el stack] ; Defines the push task.\n",
        "\trun push 10\n",
        "end\n",
        "```\n",
        "\n",
        "**Higher-order reporter:**\n",
        "\n",
        "```nlogo\n",
        "foreach [1 2 3] [ [x] -> show x * x ]\n",
        "```\n",
        "\n",
        "Unlike traditional procedures or reporters, anonymous ones are not stored in the **Code Tab** and cannot be reused unless redefined. While NetLogo doesn't directly support higher-order functions, anonymous procedures allow for similar behavior in many cases.\n",
        "\n",
        "> **NOTE:**\n",
        "> - **Map, filter, and reduce** are basic constructors that allow efficient and elegant operations on lists.\n",
        "> - `map` applies an anonymous reporter to every element in a list.\n",
        "> - `filter` applies a predicate (in the form of an anonymous reporter) to a list and returns only those items that satisfy the predicate.\n",
        "> - `reduce` applies an anonymous reporter from left to right, resulting in a single value.\n",
        ">\n",
        "> ```nlogo\n",
        "> map [ a -> a * a ] [ 1 2 3 ]\n",
        "> ```\n",
        ">\n",
        "> ```nlogo\n",
        "> filter [ a -> a > 5 ] [ 1 9 2 ]\n",
        "> ```\n",
        ">\n",
        "> ```nlogo\n",
        "> reduce [ [a b ] -> a + b ] [ 1 9 2 ]\n",
        "> ```"
      ],
      "metadata": {
        "id": "I1Gw4z5_vFnV"
      }
    },
    {
      "cell_type": "markdown",
      "source": [
        "### **2.3.11 Breeds**:\n",
        "\n",
        "In NetLogo breeds are a way to \"subclass\" the turtle type.\n",
        "\n",
        "```nlogo\n",
        "breed [ <single name> <agentset name> ]\n",
        "```\n",
        "\n",
        "```nlogo\n",
        "breed [ hunter hunters ]\n",
        "breed [ prey preys]\n",
        "```\n",
        "\n",
        "After a breed has been created, the `ask` command can be used with the breed name (e.g., `ask hunters`) to execute actions for agents of that specific breed. All commands and properties applicable to turtles can also be used with the newly defined breed.\n"
      ],
      "metadata": {
        "id": "j3nVYvMHvRq5"
      }
    },
    {
      "cell_type": "markdown",
      "source": [
        "> **Exercise:** Now that we've learned how to interact with the Code Pane, call functions from the Interface Tab, and use loops through interface elements, your task is to create a custom command called `setup-chessboard`. This command will clear the simulation environment and create a classic chessboard pattern on the grid using black and white patch colors.\n",
        "\n",
        "> **Optional:**\n",
        "> - Modify the grid size to fit different chessboard sizes (e.g., 8x8, 16x16).\n",
        "> - Use custom patch colors instead of black and white.\n",
        "> - Add another **Button** to clear the chessboard or overlay agents on specific patches.\n",
        "\n",
        "> **Solution:**\n",
        "> <details>\n",
        "> <summary><strong>Click to show/hide solution</strong></summary>\n",
        ">\n",
        "> ```nlogo\n",
        "> to setup-chessboard\n",
        ">     clear-all\n",
        ">     ask patches [\n",
        ">         if (pxcor + pycor) mod 2 = 0 [ set pcolor black ]\n",
        ">         if (pxcor + pycor) mod 2 = 1 [ set pcolor white ]\n",
        ">     ]\n",
        "> end\n",
        "> ```\n",
        ">\n",
        "> </details>\n",
        "\n",
        "![](https://drive.google.com/uc?export=view&id=1QGQa7LDs9YxL_UsTRaRbpYP4TOodr1yQ)\n"
      ],
      "metadata": {
        "id": "96aieDeOvT4E"
      }
    },
    {
      "cell_type": "markdown",
      "source": [
        "> **Exercise:** Design a **garden pattern** on the NetLogo grid using patches and turtles. The garden will consist of alternating flowerbeds (colored patches) and turtles (acting as flowers) placed in specific areas.\n",
        "\n",
        "\n",
        "> **Tasks:**\n",
        "> 1. Write a procedure called `setup-garden` to:\n",
        ">     - Clear the environment.\n",
        ">     - Color the patches in a checkerboard pattern to represent flowerbeds.\n",
        ">     - Place turtles (flowers) only on the green patches.\n",
        "> 2. Customize the turtles:\n",
        ">     - Set their **shape** to a flower (use `circle` if `flower` is unavailable in your version).\n",
        ">     - Randomize their **size** and **color** to make the garden more realistic.\n",
        "> 3. Use **ticks** to control the simulation. On each tick, make the turtles **grow** slightly (increase their size).\n",
        "\n",
        "\n",
        "> **Hints:**\n",
        "> - Use the `ask patches` command to create the checkerboard pattern.\n",
        "> - Use the `ask turtles` command to set their properties dynamically.\n",
        "> - Utilize loops, conditions (`if` statements), and lists where needed.\n",
        "\n",
        "> **Solution:**\n",
        "> <details>\n",
        "> <summary><strong>Click to show/hide solution</strong></summary>\n",
        ">\n",
        "> ```nlogo\n",
        "> to setup-garden  \n",
        ">   clear-all  \n",
        ">   \n",
        ">   ask patches [  \n",
        ">     if (pxcor + pycor) mod 2 = 0 [ set pcolor green ]  \n",
        ">     if (pxcor + pycor) mod 2 = 1 [ set pcolor brown ]  \n",
        ">   ]  \n",
        ">   \n",
        ">   ask patches with [pcolor = green] [  \n",
        ">     sprout 1 [  \n",
        ">       set shape \"circle\"  \n",
        ">       set size random-float 1.5 + 0.5  \n",
        ">       set color one-of [red pink yellow orange]  \n",
        ">     ]  \n",
        ">   ]  \n",
        ">   reset-ticks  \n",
        "> end  \n",
        ">   \n",
        "> to grow  \n",
        ">   ask turtles [  \n",
        ">     set size size + 0.1  \n",
        ">   ]  \n",
        ">   tick  \n",
        "> end\n",
        "> ```\n",
        ">\n",
        "> </details>\n",
        "\n",
        "![](https://drive.google.com/uc?export=view&id=1w7BBh63qS_TJh4cjDlr1jV4xvVpx44Zj)\n"
      ],
      "metadata": {
        "id": "hJ06Cmg3v7eX"
      }
    },
    {
      "cell_type": "markdown",
      "source": [
        "<div style=\"text-align: center; font-size: 12px;\"> Licensed under <a href=\"https://creativecommons.org/licenses/by-nc-nd/4.0/\" target=\"_blank\">CC BY-NC-ND 4.0</a>. © Tamás Takács, 2025. </div>"
      ],
      "metadata": {
        "id": "4LbuAucNxXif"
      }
    }
  ],
  "metadata": {
    "colab": {
      "provenance": [],
      "gpuType": "T4"
    },
    "kernelspec": {
      "display_name": "Python 3",
      "name": "python3"
    },
    "language_info": {
      "codemirror_mode": {
        "name": "ipython",
        "version": 3
      },
      "file_extension": ".py",
      "mimetype": "text/x-python",
      "name": "python",
      "nbconvert_exporter": "python",
      "pygments_lexer": "ipython3",
      "version": "3.10.11"
    },
    "accelerator": "GPU"
  },
  "nbformat": 4,
  "nbformat_minor": 0
}